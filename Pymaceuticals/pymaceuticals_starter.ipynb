{
 "cells": [
  {
   "cell_type": "markdown",
   "metadata": {},
   "source": [
    "## Observations and Insights"
   ]
  },
  {
   "cell_type": "markdown",
   "metadata": {},
   "source": []
  },
  {
   "cell_type": "markdown",
   "metadata": {},
   "source": [
    "## Dependencies and starter code"
   ]
  },
  {
   "cell_type": "code",
   "execution_count": 3,
   "metadata": {},
   "outputs": [
    {
     "data": {
      "text/html": [
       "<div>\n",
       "<style scoped>\n",
       "    .dataframe tbody tr th:only-of-type {\n",
       "        vertical-align: middle;\n",
       "    }\n",
       "\n",
       "    .dataframe tbody tr th {\n",
       "        vertical-align: top;\n",
       "    }\n",
       "\n",
       "    .dataframe thead th {\n",
       "        text-align: right;\n",
       "    }\n",
       "</style>\n",
       "<table border=\"1\" class=\"dataframe\">\n",
       "  <thead>\n",
       "    <tr style=\"text-align: right;\">\n",
       "      <th></th>\n",
       "      <th>Mouse ID</th>\n",
       "      <th>Drug Regimen</th>\n",
       "      <th>Sex</th>\n",
       "      <th>Age_months</th>\n",
       "      <th>Weight (g)</th>\n",
       "      <th>Timepoint</th>\n",
       "      <th>Tumor Volume (mm3)</th>\n",
       "      <th>Metastatic Sites</th>\n",
       "    </tr>\n",
       "  </thead>\n",
       "  <tbody>\n",
       "    <tr>\n",
       "      <td>0</td>\n",
       "      <td>k403</td>\n",
       "      <td>Ramicane</td>\n",
       "      <td>Male</td>\n",
       "      <td>21</td>\n",
       "      <td>16</td>\n",
       "      <td>0</td>\n",
       "      <td>45.000000</td>\n",
       "      <td>0</td>\n",
       "    </tr>\n",
       "    <tr>\n",
       "      <td>1</td>\n",
       "      <td>k403</td>\n",
       "      <td>Ramicane</td>\n",
       "      <td>Male</td>\n",
       "      <td>21</td>\n",
       "      <td>16</td>\n",
       "      <td>5</td>\n",
       "      <td>38.825898</td>\n",
       "      <td>0</td>\n",
       "    </tr>\n",
       "    <tr>\n",
       "      <td>2</td>\n",
       "      <td>k403</td>\n",
       "      <td>Ramicane</td>\n",
       "      <td>Male</td>\n",
       "      <td>21</td>\n",
       "      <td>16</td>\n",
       "      <td>10</td>\n",
       "      <td>35.014271</td>\n",
       "      <td>1</td>\n",
       "    </tr>\n",
       "    <tr>\n",
       "      <td>3</td>\n",
       "      <td>k403</td>\n",
       "      <td>Ramicane</td>\n",
       "      <td>Male</td>\n",
       "      <td>21</td>\n",
       "      <td>16</td>\n",
       "      <td>15</td>\n",
       "      <td>34.223992</td>\n",
       "      <td>1</td>\n",
       "    </tr>\n",
       "    <tr>\n",
       "      <td>4</td>\n",
       "      <td>k403</td>\n",
       "      <td>Ramicane</td>\n",
       "      <td>Male</td>\n",
       "      <td>21</td>\n",
       "      <td>16</td>\n",
       "      <td>20</td>\n",
       "      <td>32.997729</td>\n",
       "      <td>1</td>\n",
       "    </tr>\n",
       "  </tbody>\n",
       "</table>\n",
       "</div>"
      ],
      "text/plain": [
       "  Mouse ID Drug Regimen   Sex  Age_months  Weight (g)  Timepoint  \\\n",
       "0     k403     Ramicane  Male          21          16          0   \n",
       "1     k403     Ramicane  Male          21          16          5   \n",
       "2     k403     Ramicane  Male          21          16         10   \n",
       "3     k403     Ramicane  Male          21          16         15   \n",
       "4     k403     Ramicane  Male          21          16         20   \n",
       "\n",
       "   Tumor Volume (mm3)  Metastatic Sites  \n",
       "0           45.000000                 0  \n",
       "1           38.825898                 0  \n",
       "2           35.014271                 1  \n",
       "3           34.223992                 1  \n",
       "4           32.997729                 1  "
      ]
     },
     "execution_count": 3,
     "metadata": {},
     "output_type": "execute_result"
    }
   ],
   "source": [
    "# Dependencies and Setup\n",
    "import matplotlib.pyplot as plt\n",
    "import pandas as pd\n",
    "import scipy.stats as st\n",
    "import numpy as np\n",
    "\n",
    "# Study data files\n",
    "mouse_metadata = \"data/Mouse_metadata.csv\"\n",
    "study_results = \"data/Study_results.csv\"\n",
    "\n",
    "# Read the mouse data and the study results\n",
    "mouse_metadata = pd.read_csv(mouse_metadata)\n",
    "study_results = pd.read_csv(study_results)\n",
    "\n",
    "mouse_metadata.head()\n",
    "study_results.head()\n",
    "\n",
    "# Combine the data into a single dataset\n",
    "combined_study = pd.merge(mouse_metadata, study_results, on=\"Mouse ID\")\n",
    "combined_study.head()\n"
   ]
  },
  {
   "cell_type": "markdown",
   "metadata": {},
   "source": [
    "## Summary statistics"
   ]
  },
  {
   "cell_type": "code",
   "execution_count": 75,
   "metadata": {},
   "outputs": [
    {
     "data": {
      "text/html": [
       "<div>\n",
       "<style scoped>\n",
       "    .dataframe tbody tr th:only-of-type {\n",
       "        vertical-align: middle;\n",
       "    }\n",
       "\n",
       "    .dataframe tbody tr th {\n",
       "        vertical-align: top;\n",
       "    }\n",
       "\n",
       "    .dataframe thead th {\n",
       "        text-align: right;\n",
       "    }\n",
       "</style>\n",
       "<table border=\"1\" class=\"dataframe\">\n",
       "  <thead>\n",
       "    <tr style=\"text-align: right;\">\n",
       "      <th></th>\n",
       "      <th>Mean</th>\n",
       "      <th>Median</th>\n",
       "      <th>Variance</th>\n",
       "      <th>Standard Deviation</th>\n",
       "      <th>SEM</th>\n",
       "    </tr>\n",
       "    <tr>\n",
       "      <th>Drug Regimen</th>\n",
       "      <th></th>\n",
       "      <th></th>\n",
       "      <th></th>\n",
       "      <th></th>\n",
       "      <th></th>\n",
       "    </tr>\n",
       "  </thead>\n",
       "  <tbody>\n",
       "    <tr>\n",
       "      <td>Capomulin</td>\n",
       "      <td>40.675741</td>\n",
       "      <td>41.557809</td>\n",
       "      <td>24.947764</td>\n",
       "      <td>4.994774</td>\n",
       "      <td>0.329346</td>\n",
       "    </tr>\n",
       "    <tr>\n",
       "      <td>Ceftamin</td>\n",
       "      <td>52.591172</td>\n",
       "      <td>51.776157</td>\n",
       "      <td>39.290177</td>\n",
       "      <td>6.268188</td>\n",
       "      <td>0.469821</td>\n",
       "    </tr>\n",
       "    <tr>\n",
       "      <td>Infubinol</td>\n",
       "      <td>52.884795</td>\n",
       "      <td>51.820584</td>\n",
       "      <td>43.128684</td>\n",
       "      <td>6.567243</td>\n",
       "      <td>0.492236</td>\n",
       "    </tr>\n",
       "    <tr>\n",
       "      <td>Ketapril</td>\n",
       "      <td>55.235638</td>\n",
       "      <td>53.698743</td>\n",
       "      <td>68.553577</td>\n",
       "      <td>8.279709</td>\n",
       "      <td>0.603860</td>\n",
       "    </tr>\n",
       "    <tr>\n",
       "      <td>Naftisol</td>\n",
       "      <td>54.331565</td>\n",
       "      <td>52.509285</td>\n",
       "      <td>66.173479</td>\n",
       "      <td>8.134708</td>\n",
       "      <td>0.596466</td>\n",
       "    </tr>\n",
       "    <tr>\n",
       "      <td>Placebo</td>\n",
       "      <td>54.033581</td>\n",
       "      <td>52.288934</td>\n",
       "      <td>61.168083</td>\n",
       "      <td>7.821003</td>\n",
       "      <td>0.581331</td>\n",
       "    </tr>\n",
       "    <tr>\n",
       "      <td>Propriva</td>\n",
       "      <td>52.322552</td>\n",
       "      <td>50.854632</td>\n",
       "      <td>42.351070</td>\n",
       "      <td>6.507770</td>\n",
       "      <td>0.512884</td>\n",
       "    </tr>\n",
       "    <tr>\n",
       "      <td>Ramicane</td>\n",
       "      <td>40.216745</td>\n",
       "      <td>40.673236</td>\n",
       "      <td>23.486704</td>\n",
       "      <td>4.846308</td>\n",
       "      <td>0.320955</td>\n",
       "    </tr>\n",
       "    <tr>\n",
       "      <td>Stelasyn</td>\n",
       "      <td>54.233149</td>\n",
       "      <td>52.431737</td>\n",
       "      <td>59.450562</td>\n",
       "      <td>7.710419</td>\n",
       "      <td>0.573111</td>\n",
       "    </tr>\n",
       "    <tr>\n",
       "      <td>Zoniferol</td>\n",
       "      <td>53.236507</td>\n",
       "      <td>51.818479</td>\n",
       "      <td>48.533355</td>\n",
       "      <td>6.966589</td>\n",
       "      <td>0.516398</td>\n",
       "    </tr>\n",
       "  </tbody>\n",
       "</table>\n",
       "</div>"
      ],
      "text/plain": [
       "                   Mean     Median   Variance  Standard Deviation       SEM\n",
       "Drug Regimen                                                               \n",
       "Capomulin     40.675741  41.557809  24.947764            4.994774  0.329346\n",
       "Ceftamin      52.591172  51.776157  39.290177            6.268188  0.469821\n",
       "Infubinol     52.884795  51.820584  43.128684            6.567243  0.492236\n",
       "Ketapril      55.235638  53.698743  68.553577            8.279709  0.603860\n",
       "Naftisol      54.331565  52.509285  66.173479            8.134708  0.596466\n",
       "Placebo       54.033581  52.288934  61.168083            7.821003  0.581331\n",
       "Propriva      52.322552  50.854632  42.351070            6.507770  0.512884\n",
       "Ramicane      40.216745  40.673236  23.486704            4.846308  0.320955\n",
       "Stelasyn      54.233149  52.431737  59.450562            7.710419  0.573111\n",
       "Zoniferol     53.236507  51.818479  48.533355            6.966589  0.516398"
      ]
     },
     "execution_count": 75,
     "metadata": {},
     "output_type": "execute_result"
    }
   ],
   "source": [
    "\n",
    "# Generate a summary statistics table of mean, median, variance, standard deviation, \n",
    "# and SEM of the tumor volume for each regimen\n",
    "index_drug = combined_study.groupby(\"Drug Regimen\")\n",
    "#grouped_drug['Tumor Volume (mm3)'].describe()\n",
    "mean = index_drug['Tumor Volume (mm3)'].mean()\n",
    "median = index_drug['Tumor Volume (mm3)'].median()\n",
    "variance = index_drug['Tumor Volume (mm3)'].var()\n",
    "std = index_drug['Tumor Volume (mm3)'].std()\n",
    "sem_tumor = index_drug['Tumor Volume (mm3)'].sem()\n",
    "\n",
    "summary_table = pd.DataFrame({\"Mean\": mean,\n",
    "                             \"Median\": median,\n",
    "                             \"Variance\": variance,\n",
    "                             \"Standard Deviation\": std,\n",
    "                             \"SEM\": sem_tumor})\n",
    "summary_table\n",
    "\n"
   ]
  },
  {
   "cell_type": "markdown",
   "metadata": {},
   "source": [
    "## Bar plots"
   ]
  },
  {
   "cell_type": "code",
   "execution_count": 17,
   "metadata": {},
   "outputs": [
    {
     "data": {
      "image/png": "[encoded data removed]",
      "text/plain": [
       "<Figure size 432x288 with 1 Axes>"
      ]
     },
     "metadata": {
      "needs_background": "light"
     },
     "output_type": "display_data"
    },
    {
     "data": {
      "text/plain": [
       "<Figure size 432x288 with 0 Axes>"
      ]
     },
     "metadata": {},
     "output_type": "display_data"
    }
   ],
   "source": [
    "# Generate a bar plot showing number of data points for each treatment regimen using pandas\n",
    "x_axis = grouped_drug[\"Drug Regimen\"]                   #.index.values\n",
    "y_axis = grouped_drug[\"Drug Regimen\"].value_counts()\n",
    "\n",
    "\n",
    "#df = grouped_drug(grouped_drug,columns=[x_axis, y_axis])\n",
    "y_axis.plot(x=x_axis, y=y_axis, kind= 'bar')\n",
    "\n",
    "#drug_bar = drug_bar.set_index(\"Mouse ID\")\n",
    "\n",
    "#drug_bar.plot(x ='Drug Regimen', y={drug_count}, kind = 'bar')\n",
    "\n",
    "\n",
    "# Set a title for the chart\n",
    "plt.title(\"Totat Drug Regimen\")\n",
    "\n",
    "plt.show()\n",
    "plt.tight_layout()\n"
   ]
  },
  {
   "cell_type": "code",
   "execution_count": 37,
   "metadata": {},
   "outputs": [
    {
     "data": {
      "text/plain": [
       "([0, 1, 2, 3, 4, 5, 6, 7, 8, 9], <a list of 10 Text xticklabel objects>)"
      ]
     },
     "execution_count": 37,
     "metadata": {},
     "output_type": "execute_result"
    },
    {
     "data": {
      "image/png": "[encoded data removed]",
      "text/plain": [
       "<Figure size 432x288 with 1 Axes>"
      ]
     },
     "metadata": {
      "needs_background": "light"
     },
     "output_type": "display_data"
    }
   ],
   "source": [
    "# Generate a bar plot showing number of data points for each treatment regimen using pyplot\n",
    "counts = combined_study[\"Drug Regimen\"].value_counts()\n",
    "\n",
    "#x_axis = combined_study[\"Drug Regimen\"].index.values\n",
    "#y_axis = combined_study[\"Drug Regimen\"].value_counts()\n",
    "plt.bar(counts.index.values, counts.values)\n",
    "\n",
    "#plt.figure(figsize=(20,3))\n",
    "#plt.bar(x_axis, combined_study['Drug Regimen'], color='r', alpha=0.5, align=\"center\")\n",
    "plt.xticks(rotation=\"vertical\")\n"
   ]
  },
  {
   "cell_type": "markdown",
   "metadata": {},
   "source": [
    "## Pie plots"
   ]
  },
  {
   "cell_type": "code",
   "execution_count": 100,
   "metadata": {},
   "outputs": [
    {
     "data": {
      "image/png": "[encoded data removed]",
      "text/plain": [
       "<Figure size 360x360 with 1 Axes>"
      ]
     },
     "metadata": {},
     "output_type": "display_data"
    }
   ],
   "source": [
    "# Generate a pie plot showing the distribution of female versus male mice using pandas\n",
    "sex = combined_study['Sex']\n",
    "sex_counts = combined_study['Sex'].value_counts()\n",
    "#sex_counts = pd.DataFrame({'Male': sex_counts['Male'],\n",
    "                          #'Female': sex_counts['Female']},\n",
    "                          #index=['Male', 'Female'])\n",
    "plot = sex_counts.plot.pie(subplots=True, figsize=(5,5), autopct='%1.1f%%')\n",
    "\n",
    "\n"
   ]
  },
  {
   "cell_type": "code",
   "execution_count": 102,
   "metadata": {},
   "outputs": [
    {
     "data": {
      "image/png": "[encoded data removed]",
      "text/plain": [
       "<Figure size 432x288 with 1 Axes>"
      ]
     },
     "metadata": {},
     "output_type": "display_data"
    }
   ],
   "source": [
    "# Generate a pie plot showing the distribution of female versus male mice using pyplot\n",
    "sex_counts = combined_study['Sex'].value_counts()\n",
    "sex = [\"Male\", \"Female\"]\n",
    "colors = [\"blue\", \"pink\"]\n",
    "\n",
    "plt.title(\"Sex of Mice\")\n",
    "plt.pie(sex_counts, explode=None, labels=sex, colors=colors,\n",
    "        autopct=\"%1.1f%%\", shadow=True, startangle=40)\n",
    "plt.axis(\"equal\")\n",
    "plt.show()"
   ]
  },
  {
   "cell_type": "markdown",
   "metadata": {},
   "source": [
    "## Quartiles, outliers and boxplots"
   ]
  },
  {
   "cell_type": "code",
   "execution_count": 253,
   "metadata": {},
   "outputs": [
    {
     "name": "stdout",
     "output_type": "stream",
     "text": [
      "The Quartiles and Outliers of Ramicane:\n",
      "The lower quartile of Tumor Volume is: 31.56046955\n",
      "The upper quartile of Tumor Volume is: 40.65900627\n",
      "The interquartile range of Tumor Volume is: 9.098536719999998\n",
      "The the median of Tumor Volume is: 36.56165229 \n",
      "Series([], Name: Tumor Volume (mm3), dtype: float64)\n",
      "----------------------------------------------------------\n",
      "The Quartiles and Outliers of Capomulin:\n",
      "The lower quartile of Tumor Volume is: 32.37735684\n",
      "The upper quartile of Tumor Volume is: 40.1592203\n",
      "The interquartile range of Tumor Volume is: 7.781863460000004\n",
      "The the median of Tumor Volume is: 38.125164399999996 \n",
      "Series([], Name: Tumor Volume (mm3), dtype: float64)\n",
      "----------------------------------------------------------\n",
      "The Quartiles and Outliers of infubinol:\n",
      "The lower quartile of Tumor Volume is: 54.04860769\n",
      "The upper quartile of Tumor Volume is: 65.52574285\n",
      "The interquartile range of Tumor Volume is: 11.477135160000003\n",
      "The the median of Tumor Volume is: 60.16518046 \n",
      "31    36.321346\n",
      "Name: Tumor Volume (mm3), dtype: float64\n",
      "----------------------------------------------------------\n",
      "The Quartiles and Outliers of Ceftamin:\n",
      "The lower quartile of Tumor Volume is: 48.72207785\n",
      "The upper quartile of Tumor Volume is: 64.29983003\n",
      "The interquartile range of Tumor Volume is: 15.577752179999997\n",
      "The the median of Tumor Volume is: 59.85195552 \n",
      "Series([], Name: Tumor Volume (mm3), dtype: float64)\n"
     ]
    }
   ],
   "source": [
    "# Calculate the final tumor volume of each mouse across four of the most promising treatment regimens. Calculate the IQR and quantitatively determine if there are any potential outliers.\n",
    "grouped_df = combined_study.groupby('Mouse ID').max()\n",
    "grouped_df.head\n",
    "grouped_df = grouped_df.reset_index()\n",
    "\n",
    "grouped_df2 = grouped_df[['Mouse ID', 'Timepoint']]\n",
    "\n",
    "\n",
    "merge_table = pd.merge(grouped_df2, combined_study, on=['Mouse ID', 'Timepoint'], how=\"left\")\n",
    "merge_table.head(25)\n",
    "final_tumor_table = merge_table[[\"Mouse ID\", \"Tumor Volume (mm3)\", \"Drug Regimen\"]]\n",
    "final_tumor_table\n",
    "sorted_drugs = final_tumor_table.groupby('Drug Regimen').mean().sort_values(by = \"Tumor Volume (mm3)\")\n",
    "ramicane = final_tumor_table.loc[final_tumor_table[\"Drug Regimen\"] == \"Ramicane\"][\"Tumor Volume (mm3)\"]\n",
    "capomulin = final_tumor_table.loc[final_tumor_table[\"Drug Regimen\"] == \"Capomulin\"][\"Tumor Volume (mm3)\"]\n",
    "infubinol = final_tumor_table.loc[final_tumor_table[\"Drug Regimen\"] == \"Infubinol\"][\"Tumor Volume (mm3)\"]\n",
    "ceftamin = final_tumor_table.loc[final_tumor_table[\"Drug Regimen\"] == \"Ceftamin\"][\"Tumor Volume (mm3)\"]\n",
    "\n",
    "\n",
    "\n",
    "quartiles_r = ramicane.quantile([.25,.5,.75])\n",
    "lowerq_r = quartiles_r[0.25]\n",
    "upperq_r = quartiles_r[0.75]\n",
    "iqr_r = upperq_r-lowerq_r\n",
    "print(f\"The Quartiles and Outliers of Ramicane:\")\n",
    "print(f\"The lower quartile of Tumor Volume is: {lowerq_r}\")\n",
    "print(f\"The upper quartile of Tumor Volume is: {upperq_r}\")\n",
    "print(f\"The interquartile range of Tumor Volume is: {iqr_r}\")\n",
    "print(f\"The the median of Tumor Volume is: {quartiles_r[0.5]} \")\n",
    "\n",
    "lower_bound_r = lowerq_r - (1.5*iqr_r)\n",
    "upper_bound_r = upperq_r + (1.5*iqr_r)\n",
    "ramicane.loc[(ramicane > upper_bound_r) | (ramicane < lower_bound_r)]\n",
    "\n",
    "print (ramicane.loc[(ramicane > upper_bound_r) | (ramicane < lower_bound_r)])\n",
    "        \n",
    "print(f\"----------------------------------------------------------\")\n",
    "\n",
    "quartiles_c = capomulin.quantile([.25,.5,.75])\n",
    "lowerq_c = quartiles_c[0.25]\n",
    "upperq_c = quartiles_c[0.75]\n",
    "iqr_c = upperq_c-lowerq_c\n",
    "print(f\"The Quartiles and Outliers of Capomulin:\")\n",
    "print(f\"The lower quartile of Tumor Volume is: {lowerq_c}\")\n",
    "print(f\"The upper quartile of Tumor Volume is: {upperq_c}\")\n",
    "print(f\"The interquartile range of Tumor Volume is: {iqr_c}\")\n",
    "print(f\"The the median of Tumor Volume is: {quartiles_c[0.5]} \")\n",
    "\n",
    "lower_bound_c = lowerq_c - (1.5*iqr_c)\n",
    "upper_bound_c = upperq_c + (1.5*iqr_c)\n",
    "capomulin.loc[(capomulin > upper_bound_c) | (capomulin < lower_bound_c)]\n",
    "\n",
    "print (capomulin.loc[(capomulin > upper_bound_c) | (capomulin < lower_bound_c)])\n",
    "\n",
    "        \n",
    "print(f\"----------------------------------------------------------\")\n",
    "\n",
    "quartiles_p = infubinol.quantile([.25,.5,.75])\n",
    "lowerq_p = quartiles_p[0.25]\n",
    "upperq_p = quartiles_p[0.75]\n",
    "iqr_p = upperq_p-lowerq_p\n",
    "print(f\"The Quartiles and Outliers of infubinol:\")\n",
    "print(f\"The lower quartile of Tumor Volume is: {lowerq_p}\")\n",
    "print(f\"The upper quartile of Tumor Volume is: {upperq_p}\")\n",
    "print(f\"The interquartile range of Tumor Volume is: {iqr_p}\")\n",
    "print(f\"The the median of Tumor Volume is: {quartiles_p[0.5]} \")\n",
    "\n",
    "lower_bound_p = lowerq_p - (1.5*iqr_p)\n",
    "upper_bound_p = upperq_p + (1.5*iqr_p)\n",
    "infubinol.loc[(infubinol > upper_bound_p) | (infubinol < lower_bound_p)]\n",
    "\n",
    "print (infubinol.loc[(infubinol > upper_bound_p) | (infubinol < lower_bound_p)])\n",
    "\n",
    "print(f\"----------------------------------------------------------\")\n",
    "\n",
    "quartiles_ce = ceftamin.quantile([.25,.5,.75])\n",
    "lowerq_ce = quartiles_ce[0.25]\n",
    "upperq_ce = quartiles_ce[0.75]\n",
    "iqr_ce = upperq_ce-lowerq_ce\n",
    "print(f\"The Quartiles and Outliers of Ceftamin:\")\n",
    "print(f\"The lower quartile of Tumor Volume is: {lowerq_ce}\")\n",
    "print(f\"The upper quartile of Tumor Volume is: {upperq_ce}\")\n",
    "print(f\"The interquartile range of Tumor Volume is: {iqr_ce}\")\n",
    "print(f\"The the median of Tumor Volume is: {quartiles_ce[0.5]} \")\n",
    "\n",
    "lower_bound_ce = lowerq_ce - (1.5*iqr_ce)\n",
    "upper_bound_ce = upperq_ce + (1.5*iqr_ce)\n",
    "ceftamin.loc[(ceftamin > upper_bound_ce) | (ceftamin < lower_bound_ce)]\n",
    "\n",
    "print (ceftamin.loc[(ceftamin > upper_bound_ce) | (ceftamin < lower_bound_ce)])\n",
    "\n",
    "\n",
    "\n",
    "\n"
   ]
  },
  {
   "cell_type": "code",
   "execution_count": 261,
   "metadata": {},
   "outputs": [
    {
     "data": {
      "image/png": "[encoded data removed]",
      "text/plain": [
       "<Figure size 432x288 with 1 Axes>"
      ]
     },
     "metadata": {
      "needs_background": "light"
     },
     "output_type": "display_data"
    }
   ],
   "source": [
    "# Generate a box plot of the final tumor volume of each mouse across four regimens of interest\n",
    "\n",
    "\n",
    "\n",
    "fig1, ax1 = plt.subplots()\n",
    "ax1.set_title('Final Tumor Volumes')\n",
    "ax1.set_ylabel('Tumor Volume (mm3))')\n",
    "ax1.boxplot([ceftamin, infubinol, capomulin, ramicane])\n",
    "plt.xticks([1, 2, 3, 4], ['Ceftamin', 'Infubinol', 'Capomulin', 'Ramicane'])\n",
    "plt.show()"
   ]
  },
  {
   "cell_type": "markdown",
   "metadata": {},
   "source": [
    "## Line and scatter plots"
   ]
  },
  {
   "cell_type": "code",
   "execution_count": 286,
   "metadata": {},
   "outputs": [
    {
     "data": {
      "image/png": "[encoded data removed]",
      "text/plain": [
       "<Figure size 432x288 with 1 Axes>"
      ]
     },
     "metadata": {
      "needs_background": "light"
     },
     "output_type": "display_data"
    }
   ],
   "source": [
    "# Generate a line plot of time point versus tumor volume for a mouse treated with Capomulin\n",
    "mouse_c = combined_study[combined_study[\"Mouse ID\"] == \"s185\"]\n",
    "x_axis = mouse_c['Timepoint']\n",
    "y_axis = mouse_c['Tumor Volume (mm3)']\n",
    "# Give our graph axis labels\n",
    "plt.xlabel(\"Timepoint (days)\")\n",
    "plt.ylabel(\"Tumor Volume (mm3)\")\n",
    "plt.title(\"Capomulin Treatment of Mouse s185\")\n",
    "# Have to plot our chart once again as it doesn't stick after being shown\n",
    "plt.plot(x_axis, y_axis)\n",
    "plt.show()\n"
   ]
  },
  {
   "cell_type": "code",
   "execution_count": 308,
   "metadata": {},
   "outputs": [
    {
     "data": {
      "text/plain": [
       "Text(0, 0.5, 'Average Tumor Volume (mm3)')"
      ]
     },
     "execution_count": 308,
     "metadata": {},
     "output_type": "execute_result"
    },
    {
     "data": {
      "image/png": "[encoded data removed]",
      "text/plain": [
       "<Figure size 432x288 with 1 Axes>"
      ]
     },
     "metadata": {
      "needs_background": "light"
     },
     "output_type": "display_data"
    }
   ],
   "source": [
    "# Generate a scatter plot of mouse weight versus average tumor volume for the Capomulin regimen\n",
    "mice_c = combined_study[combined_study[\"Drug Regimen\"] == \"Capomulin\"]\n",
    "mice_weight = mice_c[\"Weight (g)\"]\n",
    "mice_tumor = mice_c[\"Tumor Volume (mm3)\"]\n",
    "\n",
    "plt.scatter(mice_weight, mice_tumor, marker=\"o\", facecolors=\"blue\", edgecolors=\"black\",\n",
    "            s=mice_tumor, alpha=0.75)\n",
    "plt.xlabel(\"Weight (g)\")\n",
    "plt.ylabel(\"Average Tumor Volume (mm3)\")\n"
   ]
  },
  {
   "cell_type": "code",
   "execution_count": 317,
   "metadata": {},
   "outputs": [
    {
     "data": {
      "text/plain": [
       "<matplotlib.collections.PathCollection at 0x254c2b0a848>"
      ]
     },
     "execution_count": 317,
     "metadata": {},
     "output_type": "execute_result"
    },
    {
     "data": {
      "image/png": "[encoded data removed]",
      "text/plain": [
       "<Figure size 432x288 with 1 Axes>"
      ]
     },
     "metadata": {
      "needs_background": "light"
     },
     "output_type": "display_data"
    }
   ],
   "source": [
    "# Calculate the correlation coefficient and linear regression model for mouse weight and average tumor volume for the Capomulin regimen\n",
    "mice_c_df = mice_c[['Weight (g)', 'Timepoint']]\n",
    "\n",
    "mice_c_df.corr(method='pearson')\n",
    "\n",
    "\n",
    "weight = mice_c_df['Weight (g)']\n",
    "time = mice_c_df['Timepoint']\n",
    "plt.scatter(weight, time)\n",
    "\n",
    "\n",
    "\n"
   ]
  },
  {
   "cell_type": "code",
   "execution_count": null,
   "metadata": {},
   "outputs": [],
   "source": []
  }
 ],
 "metadata": {
  "anaconda-cloud": {},
  "kernelspec": {
   "display_name": "'Python Interactive'",
   "language": "python",
   "name": "3a7587b3-9e85-4d84-ad92-431543ef0911"
  },
  "language_info": {
   "codemirror_mode": {
    "name": "ipython",
    "version": 3
   },
   "file_extension": ".py",
   "mimetype": "text/x-python",
   "name": "python",
   "nbconvert_exporter": "python",
   "pygments_lexer": "ipython3",
   "version": "3.7.4"
  }
 },
 "nbformat": 4,
 "nbformat_minor": 2
}
